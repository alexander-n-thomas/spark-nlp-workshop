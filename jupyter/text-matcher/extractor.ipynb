{
 "cells": [
  {
   "cell_type": "code",
   "execution_count": 1,
   "metadata": {},
   "outputs": [],
   "source": [
    "import os\n",
    "import sys\n",
    "sys.path.append('../../')\n",
    "\n",
    "from pyspark.sql import SparkSession\n",
    "from pyspark.ml import Pipeline"
   ]
  },
  {
   "cell_type": "code",
   "execution_count": 2,
   "metadata": {},
   "outputs": [],
   "source": [
    "spark = SparkSession.builder \\\n",
    "    .appName(\"ner\")\\\n",
    "    .master(\"local[*]\")\\\n",
    "    .config(\"spark.driver.memory\",\"4G\")\\\n",
    "    .config(\"spark.driver.maxResultSize\", \"2G\")\\\n",
    "    .config(\"spark.jars.packages\", \"JohnSnowLabs:spark-nlp:1.6.2\")\\\n",
    "    .config(\"spark.kryoserializer.buffer.max\", \"500m\")\\\n",
    "    .getOrCreate()"
   ]
  },
  {
   "cell_type": "code",
   "execution_count": 3,
   "metadata": {},
   "outputs": [],
   "source": [
    "from sparknlp.annotator import *\n",
    "from sparknlp.common import *\n",
    "from sparknlp.base import *"
   ]
  },
  {
   "cell_type": "code",
   "execution_count": 4,
   "metadata": {},
   "outputs": [],
   "source": [
    "import time\n",
    "\n",
    "documentAssembler = DocumentAssembler()\\\n",
    "  .setInputCol(\"text\")\\\n",
    "  .setOutputCol(\"document\")\n",
    "\n",
    "sentenceDetector = SentenceDetector()\\\n",
    "  .setInputCols([\"document\"])\\\n",
    "  .setOutputCol(\"sentence\")\n",
    "\n",
    "tokenizer = Tokenizer()\\\n",
    "  .setInputCols([\"document\"])\\\n",
    "  .setOutputCol(\"token\")\n",
    "\n",
    "extractor = TextMatcher()\\\n",
    "  .setEntities(\"file:///\" + os.getcwd() + \"/entities.txt\")\\\n",
    "  .setInputCols([\"token\", \"sentence\"])\\\n",
    "  .setOutputCol(\"entites\")\n",
    "\n",
    "finisher = Finisher() \\\n",
    "    .setInputCols([\"entites\"]) \\\n",
    "    .setIncludeKeys(False) \\\n",
    "    .setCleanAnnotations(True)\n",
    "\n",
    "pipeline = Pipeline(\n",
    "    stages = [\n",
    "    documentAssembler,\n",
    "    sentenceDetector,\n",
    "    tokenizer,\n",
    "    extractor,\n",
    "    finisher\n",
    "  ])\n"
   ]
  },
  {
   "cell_type": "code",
   "execution_count": 5,
   "metadata": {},
   "outputs": [
    {
     "name": "stdout",
     "output_type": "stream",
     "text": [
      "+------+---------+--------------------+\n",
      "|itemid|sentiment|                text|\n",
      "+------+---------+--------------------+\n",
      "|393940|        1|@Natasja_Cupcake ...|\n",
      "|393941|        1|@Natasja_Cupcake ...|\n",
      "|393942|        0|@Natasja_Cupcake ...|\n",
      "|393943|        0|@Natasja_Cupcake ...|\n",
      "|393944|        1|@Natasja_Cupcake ...|\n",
      "|393945|        1|@renegade37918  I...|\n",
      "|393946|        0|@renegadejk529 i ...|\n",
      "|393947|        1|@RenegadeScribe O...|\n",
      "|393948|        0|@RenegadeSOA513 ....|\n",
      "|393949|        1|@RenegadeSOA513 J...|\n",
      "|393950|        0|@RenegadeSOA513 L...|\n",
      "|393951|        1|@RenegadEuphoriX ...|\n",
      "|393952|        1|@RenegadeVyper DO...|\n",
      "|393953|        1|@Renegal Nah, it ...|\n",
      "|393954|        1|@Renegat Ñ?ÑƒÐ¿Ðµ...|\n",
      "|393955|        1|@reneilim don't f...|\n",
      "|393956|        1|@renelannte mouse...|\n",
      "|393957|        0|@renemonney Jam W...|\n",
      "|393958|        0|@renemonster i wa...|\n",
      "|393959|        1|  @renems enviei rs |\n",
      "+------+---------+--------------------+\n",
      "only showing top 20 rows\n",
      "\n"
     ]
    }
   ],
   "source": [
    "#Load the input data to be annotated\n",
    "data = spark. \\\n",
    "        read. \\\n",
    "        parquet(\"file:///\" + os.getcwd() + \"../../../data/sentiment.parquet\"). \\\n",
    "        limit(1000)\n",
    "data.cache()\n",
    "data.count()\n",
    "data.show(20)"
   ]
  },
  {
   "cell_type": "code",
   "execution_count": 6,
   "metadata": {
    "scrolled": false
   },
   "outputs": [
    {
     "name": "stdout",
     "output_type": "stream",
     "text": [
      "Start fitting\n",
      "Fitting is ended\n"
     ]
    }
   ],
   "source": [
    "print(\"Start fitting\")\n",
    "model = pipeline.fit(data)\n",
    "print(\"Fitting is ended\")"
   ]
  },
  {
   "cell_type": "code",
   "execution_count": 7,
   "metadata": {},
   "outputs": [
    {
     "name": "stdout",
     "output_type": "stream",
     "text": [
      "+------+---------+--------------------+----------------+\n",
      "|itemid|sentiment|                text|finished_entites|\n",
      "+------+---------+--------------------+----------------+\n",
      "|393940|        1|@Natasja_Cupcake ...|                |\n",
      "|393941|        1|@Natasja_Cupcake ...|                |\n",
      "|393942|        0|@Natasja_Cupcake ...|                |\n",
      "|393943|        0|@Natasja_Cupcake ...|                |\n",
      "|393944|        1|@Natasja_Cupcake ...|                |\n",
      "|393945|        1|@renegade37918  I...|                |\n",
      "|393946|        0|@renegadejk529 i ...|                |\n",
      "|393947|        1|@RenegadeScribe O...|                |\n",
      "|393948|        0|@RenegadeSOA513 ....|                |\n",
      "|393949|        1|@RenegadeSOA513 J...|                |\n",
      "|393950|        0|@RenegadeSOA513 L...|                |\n",
      "|393951|        1|@RenegadEuphoriX ...|                |\n",
      "|393952|        1|@RenegadeVyper DO...|                |\n",
      "|393953|        1|@Renegal Nah, it ...|                |\n",
      "|393954|        1|@Renegat Ñ?ÑƒÐ¿Ðµ...|                |\n",
      "|393955|        1|@reneilim don't f...|                |\n",
      "|393956|        1|@renelannte mouse...|                |\n",
      "|393957|        0|@renemonney Jam W...|                |\n",
      "|393958|        0|@renemonster i wa...|                |\n",
      "|393959|        1|  @renems enviei rs |                |\n",
      "+------+---------+--------------------+----------------+\n",
      "only showing top 20 rows\n",
      "\n"
     ]
    }
   ],
   "source": [
    "extracted = model.transform(data)\n",
    "extracted.show()"
   ]
  },
  {
   "cell_type": "code",
   "execution_count": 8,
   "metadata": {},
   "outputs": [
    {
     "data": {
      "text/plain": [
       "DataFrame[finished_entites: string]"
      ]
     },
     "execution_count": 8,
     "metadata": {},
     "output_type": "execute_result"
    }
   ],
   "source": [
    "extracted.select(\"finished_entites\")"
   ]
  },
  {
   "cell_type": "code",
   "execution_count": 9,
   "metadata": {},
   "outputs": [],
   "source": [
    "pipeline.write().overwrite().save(\"./extractor_pipeline\")\n",
    "model.write().overwrite().save(\"./extractor_model\")"
   ]
  },
  {
   "cell_type": "code",
   "execution_count": 10,
   "metadata": {
    "scrolled": false
   },
   "outputs": [
    {
     "name": "stdout",
     "output_type": "stream",
     "text": [
      "+------+---------+--------------------+----------------+\n",
      "|itemid|sentiment|                text|finished_entites|\n",
      "+------+---------+--------------------+----------------+\n",
      "|393940|        1|@Natasja_Cupcake ...|                |\n",
      "|393941|        1|@Natasja_Cupcake ...|                |\n",
      "|393942|        0|@Natasja_Cupcake ...|                |\n",
      "|393943|        0|@Natasja_Cupcake ...|                |\n",
      "|393944|        1|@Natasja_Cupcake ...|                |\n",
      "|393945|        1|@renegade37918  I...|                |\n",
      "|393946|        0|@renegadejk529 i ...|                |\n",
      "|393947|        1|@RenegadeScribe O...|                |\n",
      "|393948|        0|@RenegadeSOA513 ....|                |\n",
      "|393949|        1|@RenegadeSOA513 J...|                |\n",
      "|393950|        0|@RenegadeSOA513 L...|                |\n",
      "|393951|        1|@RenegadEuphoriX ...|                |\n",
      "|393952|        1|@RenegadeVyper DO...|                |\n",
      "|393953|        1|@Renegal Nah, it ...|                |\n",
      "|393954|        1|@Renegat Ñ?ÑƒÐ¿Ðµ...|                |\n",
      "|393955|        1|@reneilim don't f...|                |\n",
      "|393956|        1|@renelannte mouse...|                |\n",
      "|393957|        0|@renemonney Jam W...|                |\n",
      "|393958|        0|@renemonster i wa...|                |\n",
      "|393959|        1|  @renems enviei rs |                |\n",
      "+------+---------+--------------------+----------------+\n",
      "only showing top 20 rows\n",
      "\n"
     ]
    }
   ],
   "source": [
    "from pyspark.ml import PipelineModel, Pipeline\n",
    "\n",
    "Pipeline.read().load(\"./extractor_pipeline\")\n",
    "sameModel = PipelineModel.read().load(\"./extractor_model\")\n",
    "\n",
    "sameModel.transform(data).show()"
   ]
  }
 ],
 "metadata": {
  "anaconda-cloud": {},
  "kernelspec": {
   "display_name": "Python 3",
   "language": "python",
   "name": "python3"
  },
  "language_info": {
   "codemirror_mode": {
    "name": "ipython",
    "version": 3
   },
   "file_extension": ".py",
   "mimetype": "text/x-python",
   "name": "python",
   "nbconvert_exporter": "python",
   "pygments_lexer": "ipython3",
   "version": "3.6.3"
  }
 },
 "nbformat": 4,
 "nbformat_minor": 1
}
