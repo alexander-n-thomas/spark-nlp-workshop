{
 "cells": [
  {
   "cell_type": "code",
   "execution_count": 1,
   "metadata": {},
   "outputs": [],
   "source": [
    "import sys\n",
    "sys.path.append('../../')\n",
    "\n",
    "from pyspark.sql import SparkSession\n",
    "from pyspark.ml import Pipeline\n",
    "\n",
    "from pathlib import Path\n",
    "\n",
    "if sys.version_info[0] < 3:\n",
    "    from urllib import urlretrieve\n",
    "else:\n",
    "    from urllib.request import urlretrieve\n"
   ]
  },
  {
   "cell_type": "code",
   "execution_count": 2,
   "metadata": {},
   "outputs": [],
   "source": [
    "spark = SparkSession.builder \\\n",
    "    .appName(\"ast-ner\")\\\n",
    "    .master(\"local[1]\")\\\n",
    "    .config(\"spark.driver.memory\",\"8G\")\\\n",
    "    .config(\"spark.driver.maxResultS1ize\", \"2G\") \\\n",
    "    .config(\"spark.jars.packages\", \"JohnSnowLabs:spark-nlp:1.6.2\")\\\n",
    "    .config(\"spark.kryoserializer.buffer.max\", \"500m\")\\\n",
    "    .getOrCreate()"
   ]
  },
  {
   "cell_type": "code",
   "execution_count": 3,
   "metadata": {},
   "outputs": [],
   "source": [
    "from sparknlp.annotator import *\n",
    "from sparknlp.common import *\n",
    "from sparknlp.base import *"
   ]
  },
  {
   "cell_type": "code",
   "execution_count": 4,
   "metadata": {},
   "outputs": [],
   "source": [
    "import time\n",
    "\n",
    "\n",
    "embeddingsFile = './PubMed-shuffle-win-2.bin'\n",
    "embeddingsUrl = 'https://s3.amazonaws.com/auxdata.johnsnowlabs.com/PubMed-shuffle-win-2.bin'\n",
    "# this may take a couple minutes\n",
    "if not Path(embeddingsFile).is_file():\n",
    "    urlretrieve(embeddingsUrl, embeddingsFile)\n",
    "\n",
    "documentAssembler = DocumentAssembler()\\\n",
    "    .setInputCol(\"sentence\")\\\n",
    "    .setOutputCol(\"document\")\\\n",
    "    \n",
    "tokenizer = Tokenizer()\\\n",
    "    .setInputCols([\"document\"])\\\n",
    "    .setOutputCol(\"token\")\n",
    "    \n",
    "pretrained_pos = PerceptronModel().pretrained()\\\n",
    "    .setInputCols([\"document\", \"token\"])\\\n",
    "    .setOutputCol(\"pos\")\n",
    "    \n",
    "pretrained_ner = NerCrfModel().pretrained()\\\n",
    "    .setInputCols([\"document\", \"token\", \"pos\"])\\\n",
    "    .setOutputCol(\"ner\")\n",
    "\n",
    "ner_converter = NerConverter()\\\n",
    "    .setInputCols([\"document\", \"token\", \"ner\"])\\\n",
    "    .setOutputCol(\"nerconverter\")\n",
    "\n",
    "assertion = AssertionDLApproach()\\\n",
    "    .setLabelCol(\"label\")\\\n",
    "    .setInputCols([\"document\", \"nerconverter\"])\\\n",
    "    .setOutputCol(\"assertion\")\\\n",
    "    .setBatchSize(16)\\\n",
    "    .setEpochs(2)\\\n",
    "    .setEmbeddingsSource(embeddingsFile,200,3)\n",
    "\n",
    "finisher = Finisher() \\\n",
    "    .setInputCols([\"assertion\", \"ner\"]) \\\n",
    "    .setIncludeKeys(False)\n",
    "\n",
    "pipeline = Pipeline(\n",
    "    stages = [\n",
    "    documentAssembler,\n",
    "    tokenizer,\n",
    "    pretrained_pos,\n",
    "    pretrained_ner,\n",
    "    ner_converter,\n",
    "    assertion,\n",
    "    finisher\n",
    "  ])\n"
   ]
  },
  {
   "cell_type": "code",
   "execution_count": 5,
   "metadata": {},
   "outputs": [
    {
     "name": "stdout",
     "output_type": "stream",
     "text": [
      "+--------------------+--------+\n",
      "|            sentence|   label|\n",
      "+--------------------+--------+\n",
      "|hello Peter how a...|Affirmed|\n",
      "|     master of yards| Negated|\n",
      "|        what is this| Negated|\n",
      "|Michael Jordan is...| Negated|\n",
      "|Robert Deniro is ...| Negated|\n",
      "|Learn from Carlos...| Negated|\n",
      "|   Who is Jhon here?| Negated|\n",
      "|     my friend Lucas|Affirmed|\n",
      "+--------------------+--------+\n",
      "\n"
     ]
    }
   ],
   "source": [
    "#Load the input data to be annotated\n",
    "data = spark.createDataFrame([\n",
    "    [\"hello Peter how are you? And how is Robert Douglas?\", \"Affirmed\"],\n",
    "    [\"master of yards\", \"Negated\"],\n",
    "    [\"what is this\", \"Negated\"],\n",
    "    [\"Michael Jordan is a good person\", \"Negated\"],\n",
    "    [\"Robert Deniro is not a good person\", \"Negated\"],\n",
    "    [\"Learn from Carlos Rodriguez\", \"Negated\"],\n",
    "    [\"Who is Jhon here?\", \"Negated\"],\n",
    "    [\"my friend Lucas\", \"Affirmed\"]\n",
    "    ]).toDF(\"sentence\", \"label\")\n",
    "data.show()"
   ]
  },
  {
   "cell_type": "code",
   "execution_count": 6,
   "metadata": {
    "scrolled": false
   },
   "outputs": [
    {
     "name": "stdout",
     "output_type": "stream",
     "text": [
      "Start fitting\n",
      "Fitting is ended\n",
      "202.4842014312744\n"
     ]
    }
   ],
   "source": [
    "start = time.time()\n",
    "print(\"Start fitting\")\n",
    "model = pipeline.fit(data)\n",
    "print(\"Fitting is ended\")\n",
    "print (time.time() - start)"
   ]
  },
  {
   "cell_type": "code",
   "execution_count": 7,
   "metadata": {},
   "outputs": [
    {
     "data": {
      "text/plain": [
       "Finisher_4f649e30392d12467f54"
      ]
     },
     "execution_count": 7,
     "metadata": {},
     "output_type": "execute_result"
    }
   ],
   "source": [
    "model.stages[-1].setIncludeKeys(False)"
   ]
  },
  {
   "cell_type": "code",
   "execution_count": 8,
   "metadata": {},
   "outputs": [
    {
     "name": "stdout",
     "output_type": "stream",
     "text": [
      "+--------------------+--------------------+------------------+\n",
      "|            sentence|        finished_ner|finished_assertion|\n",
      "+--------------------+--------------------+------------------+\n",
      "|hello Peter how a...|O@I-PER@O@O@O@O@O...|   Negated@Negated|\n",
      "|     master of yards|               O@O@O|                  |\n",
      "|        what is this|               O@O@O|                  |\n",
      "|Michael Jordan is...| I-PER@I-PER@O@O@O@O|           Negated|\n",
      "|Robert Deniro is ...|I-PER@I-PER@O@O@O...|           Negated|\n",
      "|Learn from Carlos...|     O@O@I-PER@I-PER|           Negated|\n",
      "|   Who is Jhon here?|   I-PER@O@I-PER@O@O|   Negated@Negated|\n",
      "|     my friend Lucas|           O@O@I-PER|           Negated|\n",
      "+--------------------+--------------------+------------------+\n",
      "\n"
     ]
    }
   ],
   "source": [
    "result = model.transform(data)\n",
    "result.select(\"sentence\", \"finished_ner\", \"finished_assertion\").show()"
   ]
  }
 ],
 "metadata": {
  "anaconda-cloud": {},
  "kernelspec": {
   "display_name": "Python 3",
   "language": "python",
   "name": "python3"
  },
  "language_info": {
   "codemirror_mode": {
    "name": "ipython",
    "version": 3
   },
   "file_extension": ".py",
   "mimetype": "text/x-python",
   "name": "python",
   "nbconvert_exporter": "python",
   "pygments_lexer": "ipython3",
   "version": "3.6.3"
  }
 },
 "nbformat": 4,
 "nbformat_minor": 1
}
